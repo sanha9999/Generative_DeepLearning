{
 "cells": [
  {
   "cell_type": "markdown",
   "metadata": {},
   "source": [
    "# 확률적 생성 모델링\n",
    "\n",
    "### 1. 표본공간, 확률 밀도 함수, 모수 모델, 가능도, 최대 가능도 추정\n",
    "* #### 표본공간\n",
    "> 표본공간(sample space)은 샘플 x가 가질 수 있는 모든 값의 집합이다.\n",
    "* #### 확률 밀도 함수\n",
    "> 확률 밀도 함수(probability density function) p(x)는 표본 공간의 포인트 x를 0과 1사이의 숫자에 매핑하는 함수이다. 표본 공간의 모든 포인트에 대한 확률 밀도 함수의 합은 1이 되어야 잘 정의된 확률 분포이다.\n",
    "* #### 모수 모델\n",
    "> 모수 모델(parametric model)은 한정된 개수의 파라미터 θ를 사용하여 묘사하는 확률 밀도 함수의 한 종류이다.\n",
    "* #### 가능도\n",
    "> 파라미터 집합 θ의 가능도(likelihood) 는 샘플 포인트 x가 주어졌을 때 θ의 알맞은 정도를 측정하는 함수이다.\n",
    "* #### 최대 가능도 추정(또는 최대 우도 추정)\n",
    "> 최대 가능도 추정(maximum likelihood estimation)은 확률 밀도 함수의 파라미터 집합 θ에서 관측된 데이터 X를 가장 잘 설명할 수있는 추정값을 찾는 방법이다.\n",
    "\n",
    "\n",
    "## 헬로 로들!!!!\n",
    "> 이 장에서 만나는 첫번째 문제 로들 행성으로의 여행이다..\n",
    "#### 서기 2047년 나는 행성 로들의 최고 패션 책임자(CFO)로 임명되었다!! 이 행성 거주민의 유행을 선도할 새롭고 멋진 패션을 만드는 것이 나의 책임이다."
   ]
  }
 ],
 "metadata": {
  "kernelspec": {
   "display_name": "Python 3",
   "language": "python",
   "name": "python3"
  },
  "language_info": {
   "codemirror_mode": {
    "name": "ipython",
    "version": 3
   },
   "file_extension": ".py",
   "mimetype": "text/x-python",
   "name": "python",
   "nbconvert_exporter": "python",
   "pygments_lexer": "ipython3",
   "version": "3.8.5"
  }
 },
 "nbformat": 4,
 "nbformat_minor": 4
}
