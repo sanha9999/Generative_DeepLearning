{
 "cells": [
  {
   "cell_type": "markdown",
   "metadata": {},
   "source": [
    "### 데이터 적재\n",
    "\n",
    "데이터셋 : CIFAR-10\n",
    "> 32 * 32 픽셀의 컬러이미지 6만개로 구성"
   ]
  },
  {
   "cell_type": "code",
   "execution_count": 1,
   "metadata": {},
   "outputs": [
    {
     "data": {
      "text/plain": [
       "0.5176471"
      ]
     },
     "execution_count": 1,
     "metadata": {},
     "output_type": "execute_result"
    }
   ],
   "source": [
    "import numpy as np\n",
    "from keras.utils import to_categorical\n",
    "from keras.datasets import cifar10\n",
    "\n",
    "(x_train, y_train), (x_test, y_test) = cifar10.load_data()\n",
    "\n",
    "NUM_CLASSES = 10\n",
    "\n",
    "x_train = x_train.astype('float32') / 255.0\n",
    "x_test = x_test.astype('float32') / 255.0\n",
    "# 기본적으로 이미지 데이터는 픽셀 채널마다 0에서 255 사이의 정수로 구성된다.\n",
    "# 신경망은 입력이 -1과 1사이의 범위에 놓여있을 때 가장 잘 동작하기 떄문에 데이터를 255로 나누는 것이다.\n",
    "\n",
    "y_train = to_categorical(y_train, NUM_CLASSES)\n",
    "y_test = to_categorical(y_test, NUM_CLASSES)\n",
    "# 이미지의 정수 레이블을 원-핫 인코딩 벡터로 바꾼다. 어떤 이미지의 클래스 정수 레이블이 i라면,\n",
    "# 이것의 원-핫 인코딩은 i번째 원소가 1이고 그 외에는 모두 0인 길이가 클래스 개수인 벡터이다.\n",
    "\n",
    "# x_train의 크기가 [50000, 32, 32, 3]인데, 첫 번째 차원은 이미지의 인덱스이고, 2/3번째 차원은 이미지의 높이와 넓이이다.\n",
    "# 마지막 차원은 RGB값이다.\n",
    "x_train[100, 23, 19, 1]"
   ]
  },
  {
   "cell_type": "markdown",
   "metadata": {},
   "source": [
    "### 모델 만들기\n",
    "\n",
    "#### Sequental(), 함수형 API\n",
    "\n",
    "* Sequental 모델\n",
    "> 일렬로 층을 쌓은 네트워크를 빠르게 만들 때 사용하기 좋다.\n",
    "* 함수형 API\n",
    "> 가지가 있는 네트워크를 만들기 위해 사용해야한다.\n",
    "\n",
    "### Sequental 모델을 사용한 네트워크"
   ]
  },
  {
   "cell_type": "code",
   "execution_count": 2,
   "metadata": {},
   "outputs": [],
   "source": [
    "from keras.models import Sequential\n",
    "from keras.layers import Flatten, Dense\n",
    "\n",
    "model = Sequential([\n",
    "    Dense(200, activation='relu', input_shape=(32, 32, 3)),\n",
    "    Flatten(),\n",
    "    Dense(150, activation='relu'),\n",
    "    Dense(10, activation='softmax'),\n",
    "])"
   ]
  },
  {
   "cell_type": "markdown",
   "metadata": {},
   "source": [
    "### 함수형 API를 사용한 네트워크"
   ]
  },
  {
   "cell_type": "code",
   "execution_count": 3,
   "metadata": {},
   "outputs": [],
   "source": [
    "from keras.layers import Input, Flatten, Dense\n",
    "from keras.models import Model\n",
    "\n",
    "input_layer = Input(shape=(32, 32, 3))\n",
    "\n",
    "x = Flatten()(input_layer)\n",
    "\n",
    "x = Dense(units=200, activation='relu')(x)\n",
    "x = Dense(units=150, activation='relu')(x)\n",
    "\n",
    "# 이부분을 요렇게 바꿀 수도 있다.\n",
    "# x = Dense(unuts=200)(x)\n",
    "# x = Activation('relu')(x)\n",
    "\n",
    "output_layer = Dense(units=10, activation='softmax')(x)\n",
    "\n",
    "model = Model(input_layer, output_layer)"
   ]
  },
  {
   "cell_type": "markdown",
   "metadata": {},
   "source": [
    "* Input 층\n",
    "> 네트워크의 시작점으로, 네트워크가 기대하는 입력 데이터 크기를 튜플로 알려주어야한다. 배치 크기는 지정하지 않는다.\n",
    "\n",
    "* Flatten 층\n",
    "> 입력을 하나의 벡터로 펼친다. 결과 벡터의 길이는 32 * 32 * 3 = 3072개이다. 이렇게 하는 이유는 뒤에 나오는 Dense층이 이렇게 사용해야하기 때문이다.\n",
    "\n",
    "* Dense 층\n",
    "> 가장 기본적으로 사용되는 층이다. 이 층은 이전 층과 완전하게 연결되는 유닛을 가지고 있다. 이 층의 유닛은 이전 층의 모든 유닛과 연결되어 있다. 연결마다 하나의 가중치가 동반된다. 유닛의 출력은 이전 층으로부터 받은 입력과 가중치를 곱하여 더한 것이다. 그 다음 활성화 함수를 통과하여 다음 층에 전달이 된다. 활성화 함수는 아주 중요한 역할을 담당한다.\n",
    "\n",
    "### 활성화 함수\n",
    "\n",
    "* #### ReLU(렐루)\n",
    "> 입력이 음수이면 0이고 그 외에는 입력과 동일한 값을 출력한다. 리키렐루(LeakyRelu)는 입력에 비례하는 작은 음수를 반환한다. 절편이 이미 큰 음수값을 가지고 있어서 렐루 함수가 항상 0을 출력한다면 아무것도 할 수 없기 때문이다. 리키렐루는 그레디언트가 0이 되지 않도록 하여 이 문제를 해결한다. 렐루는 아주 믿을 만 하다!!! 렐루!!!\n",
    "\n",
    "* #### sigmoid(시그모이드)\n",
    "> 층의 출력을 0에서 1사이로 조정하고 싶을 때 유용하다. 예를 들어 하나의 출력 유닛을 가진 이진 분류 문제나 샘플이 하나 이상의 클래스에 속할 수 있는 다중 레이블 분류 문제에서 사용한다. \n",
    "\n",
    "* #### softmax(소프트맥스)\n",
    "> 전체 출력 합이 1이 되어야 할 떄 사용한다. 예를 들어 샘플이 정확히 하나의 클래스에만 속해야하는 다중 분류 문제에서 사용한다. 이 예제에서는 소프트맥스를 사용하여 이 값을 이미지가 10개의 클래스에 속할 확률로 이해할 수 있다. "
   ]
  },
  {
   "cell_type": "code",
   "execution_count": 4,
   "metadata": {},
   "outputs": [
    {
     "name": "stdout",
     "output_type": "stream",
     "text": [
      "Model: \"model\"\n",
      "_________________________________________________________________\n",
      "Layer (type)                 Output Shape              Param #   \n",
      "=================================================================\n",
      "input_1 (InputLayer)         [(None, 32, 32, 3)]       0         \n",
      "_________________________________________________________________\n",
      "flatten_1 (Flatten)          (None, 3072)              0         \n",
      "_________________________________________________________________\n",
      "dense_3 (Dense)              (None, 200)               614600    \n",
      "_________________________________________________________________\n",
      "dense_4 (Dense)              (None, 150)               30150     \n",
      "_________________________________________________________________\n",
      "dense_5 (Dense)              (None, 10)                1510      \n",
      "=================================================================\n",
      "Total params: 646,260\n",
      "Trainable params: 646,260\n",
      "Non-trainable params: 0\n",
      "_________________________________________________________________\n"
     ]
    }
   ],
   "source": [
    "model.summary()"
   ]
  },
  {
   "cell_type": "markdown",
   "metadata": {},
   "source": [
    "### 모델 컴파일"
   ]
  },
  {
   "cell_type": "code",
   "execution_count": 5,
   "metadata": {},
   "outputs": [],
   "source": [
    "from keras.optimizers import Adam\n",
    "\n",
    "opt = Adam(lr=0.0005)\n",
    "model.compile(loss='categorical_crossentropy', optimizer=opt,\n",
    "             metrics=['accuracy'])\n"
   ]
  },
  {
   "cell_type": "markdown",
   "metadata": {},
   "source": [
    "### 손실함수\n",
    "* #### 평균 제곱 오차(mean squared error)\n",
    "> 신경망이 회귀 문제(연속적인 값 해석)일 때 이 함수를 사용한다. 이 함수는 각 샘플의 정답 y와 예측 값 p 사이 차이를 제곱하고 모든 샘플에 평균한 것이다.\n",
    "\n",
    "* #### 범주형 크로스 엔트로피(categorical cross_entropy)\n",
    "> 샘플이 여러 클래스 중 하나에 속해야 하는 분류 문제라면 이 함수를 사용한다. \n",
    "\n",
    "* #### 이진 크로스 엔트로피(binary cross_entropy)\n",
    "> 하나의 출력 유닛을 가진 이진 분류 문제이거나 샘플이 여러 개의 클래스에 속할 수 있는 다중 레이블 문제라면 이진 크로스 엔트로피를 사용한다.\n",
    "\n",
    "### 옵티마이저\n",
    "> 손실 함수 기반의 그레디언트를 기반으로 신경망의 가중치를 업데이트하기 위해 사용하는 알고리즘이다. 가장 널리 사용되는 것이 RMSProp, Adam이다. metrics 매개변수는 정확도(accuracy)같은 훈련 과정에서 기록하고 싶은 지표를 추가로 지정할 수 있다.\n",
    "\n",
    "### 모델 훈련"
   ]
  },
  {
   "cell_type": "code",
   "execution_count": 6,
   "metadata": {},
   "outputs": [
    {
     "name": "stdout",
     "output_type": "stream",
     "text": [
      "Epoch 1/10\n",
      "1563/1563 [==============================] - 8s 4ms/step - loss: 1.9764 - accuracy: 0.2838\n",
      "Epoch 2/10\n",
      "1563/1563 [==============================] - 6s 4ms/step - loss: 1.6874 - accuracy: 0.3997\n",
      "Epoch 3/10\n",
      "1563/1563 [==============================] - 6s 4ms/step - loss: 1.6063 - accuracy: 0.4326\n",
      "Epoch 4/10\n",
      "1563/1563 [==============================] - 6s 4ms/step - loss: 1.5490 - accuracy: 0.4459\n",
      "Epoch 5/10\n",
      "1563/1563 [==============================] - 6s 4ms/step - loss: 1.5063 - accuracy: 0.4638\n",
      "Epoch 6/10\n",
      "1563/1563 [==============================] - 6s 4ms/step - loss: 1.4641 - accuracy: 0.4789\n",
      "Epoch 7/10\n",
      "1563/1563 [==============================] - 6s 4ms/step - loss: 1.4414 - accuracy: 0.4884\n",
      "Epoch 8/10\n",
      "1563/1563 [==============================] - 6s 4ms/step - loss: 1.4198 - accuracy: 0.4939\n",
      "Epoch 9/10\n",
      "1563/1563 [==============================] - 7s 4ms/step - loss: 1.3949 - accuracy: 0.5044\n",
      "Epoch 10/10\n",
      "1563/1563 [==============================] - 7s 4ms/step - loss: 1.3720 - accuracy: 0.5106\n"
     ]
    }
   ],
   "source": [
    "history = model.fit(x_train, # 원본 이미지 데이터\n",
    "        y_train, # 원-핫 인코딩 된 클래스 레이블\n",
    "         batch_size=32, # 훈련 스텝마다 네트워크에 전달될 샘플의 개수\n",
    "         epochs=10, # 반복하여 훈련할 횟수\n",
    "         shuffle=True) # 훈랸 스텝마다 배치를 하면 중복을 허용하지 않고 랜덤하게 추출하는 것"
   ]
  },
  {
   "cell_type": "markdown",
   "metadata": {},
   "source": [
    "### 모델 평가"
   ]
  },
  {
   "cell_type": "code",
   "execution_count": 7,
   "metadata": {},
   "outputs": [
    {
     "name": "stdout",
     "output_type": "stream",
     "text": [
      "313/313 [==============================] - 1s 2ms/step - loss: 1.4083 - accuracy: 0.5032\n"
     ]
    },
    {
     "data": {
      "text/plain": [
       "[1.4083422422409058, 0.5031999945640564]"
      ]
     },
     "execution_count": 7,
     "metadata": {},
     "output_type": "execute_result"
    }
   ],
   "source": [
    "model.evaluate(x_test, y_test)"
   ]
  },
  {
   "cell_type": "code",
   "execution_count": 8,
   "metadata": {},
   "outputs": [
    {
     "data": {
      "image/png": "[encoded data removed]",
      "text/plain": [
       "<Figure size 432x288 with 1 Axes>"
      ]
     },
     "metadata": {
      "needs_background": "light"
     },
     "output_type": "display_data"
    }
   ],
   "source": [
    "import matplotlib.pyplot as plt\n",
    "plt.figure()\n",
    "\n",
    "acc = history.history['accuracy']\n",
    "\n",
    "plt.plot(range(1, len(acc) + 1), acc)\n",
    "plt.title('accuracy')\n",
    "\n",
    "plt.show()"
   ]
  },
  {
   "cell_type": "markdown",
   "metadata": {},
   "source": [
    "### predict 메서드를 사용해서 테스트 세트에 대한 예측 결과 확인"
   ]
  },
  {
   "cell_type": "code",
   "execution_count": 9,
   "metadata": {},
   "outputs": [],
   "source": [
    "CLASSES = np.array(['airplane', 'automobile', 'bird', 'cat', 'deer', 'dog',\n",
    "                   'frog', 'horse', 'ship', 'truck'])\n",
    "\n",
    "preds = model.predict(x_test)\n",
    "# preds는 [10000, 10] 크기의 배열로 샘플마다 10개의 클래스 확률을 담은 벡터가 반환된다.\n",
    "preds_single = CLASSES[np.argmax(preds, axis= -1)]\n",
    "# 이 확률 배열을 argmax함수를 사용해 하나의 예측 결과로 바꾼다. 여기에서 axis=-1은 마지막 차원으로 배열을 압축하라는 뜻이다.\n",
    "# 결국 크기가 [10000, 1]이 된다.\n",
    "actual_single = CLASSES[np.argmax(y_test, axis=-1)]"
   ]
  },
  {
   "cell_type": "code",
   "execution_count": 10,
   "metadata": {},
   "outputs": [
    {
     "data": {
      "image/png": "[encoded data removed]",
      "text/plain": [
       "<Figure size 1080x216 with 10 Axes>"
      ]
     },
     "metadata": {
      "needs_background": "light"
     },
     "output_type": "display_data"
    }
   ],
   "source": [
    "import matplotlib.pyplot as plt\n",
    "n_to_show = 10\n",
    "indices = np.random.choice(range(len(x_test)), n_to_show)\n",
    "\n",
    "fig = plt.figure(figsize=(15, 3))\n",
    "fig.subplots_adjust(hspace=0.4, wspace=0.4)\n",
    "\n",
    "for i, idx in enumerate(indices):\n",
    "    img = x_test[idx]\n",
    "    ax = fig.add_subplot(1, n_to_show, i+1)\n",
    "    ax.axis('off')\n",
    "    ax.text(0.5, -0.35, 'pred = '+ str(preds_single[idx]), fontsize=10, ha='center', transform=ax.transAxes)\n",
    "    ax.text(0.5, -0.7, 'act = ' + str(actual_single[idx]), fontsize=10, ha='center', transform=ax.transAxes)\n",
    "    ax.imshow(img)"
   ]
  },
  {
   "cell_type": "markdown",
   "metadata": {},
   "source": [
    "## 모델 성능 향상\n",
    "\n",
    "#### 앞선 네트워크가 성능이 안좋은 이유는 입력 이미지의 공간 구조를 다룰 수 있는 요소가 네트워크에 없기 때문이다!! 이걸 해결하기 위해서 케라스 책에서 배운 합성곱층(convolution layer)을 사용한다.\n",
    "\n",
    "> 합성곱은 필터를 이미지의 일부분과 픽셀끼리 곱한 후 결과를 더하는 것이다. 이미지 영역이 필터와 비슷할 수록 큰 양수가 출력되고 필터와 반대일수록 큰 음수가 출력된다.\n",
    "\n",
    "> 필터를 전체 이미지에 대해서 왼쪽에서 오른쪽으로 위 아래로 이동하면서 합성곱의 출력을 기록한다. 이를 통해 필터의 값에 따라 입력에서 어떤 특성을 골라낸 새로운 배열을 얻을 수 있다. 이것이 바로 합성곱 층이 하는 일이다. 보통 여러개의 필터를 사용한다.\n",
    "\n",
    "### 케라스에서는 Conv2D층을 사용해 높이와 너비를 가진 입력 텐서에 합성곱을 적용한다."
   ]
  },
  {
   "cell_type": "code",
   "execution_count": 11,
   "metadata": {},
   "outputs": [],
   "source": [
    "from keras.layers import Conv2D\n",
    "\n",
    "input_layer = Input(shape=(64, 64, 1))\n",
    "\n",
    "conv_layer_1 = Conv2D(\n",
    "    filters=2,\n",
    "    kernel_size=(3, 3),\n",
    "    strides=1,\n",
    "    padding='same')(input_layer)"
   ]
  },
  {
   "cell_type": "markdown",
   "metadata": {},
   "source": [
    "### Stride(스트라이트)\n",
    "\n",
    "> 이 매개변수는 필터가 한 번에 입력 위를 이동하는 크기이다. 스트라이드를 크게 하면 출력 텐서의 크기가 줄어든다. 예를 들어 ```strides = 2```로 하면 출력 텐서의 높이와 너비는 입력 텐서의 절반이 된다. 네트워크를 통과하면서 채널의 수는 늘리고 텐서의 공간 방향 크기를 줄이는데 사용할 수 있다.\n",
    "\n",
    "### Padding(패딩)\n",
    "\n",
    "> ```padding = 'same'``` 매개변수는 입력 데이터를 0으로 패딩하여 ```strides=1```일 대 출력의 크기를 입력의 크기와 같게 한다. \n",
    "\n",
    "> ```padding = 'same'```으로 지정하면 여러 개의 합성곱 층을 통과할 때 텐서의 크기를 쉽게 파악할 수 있기 때문에 유용하다.\n",
    "\n",
    "### 케라스로 정의한 Conv2D 네트워크"
   ]
  },
  {
   "cell_type": "code",
   "execution_count": 12,
   "metadata": {},
   "outputs": [],
   "source": [
    "input_layer = Input(shape=(32, 32, 3))\n",
    "\n",
    "conv_layer_1 = Conv2D(\n",
    "    filters=10,\n",
    "    kernel_size=(4, 4),\n",
    "    strides=2,\n",
    "    padding='same')(input_layer)\n",
    "\n",
    "conv_layer_2 = Conv2D(\n",
    "    filters = 20,\n",
    "    kernel_size=(3, 3),\n",
    "    strides=2,\n",
    "    padding='same')(conv_layer_1)\n",
    "\n",
    "flatten_layer = Flatten()(conv_layer_2)\n",
    "\n",
    "output_layer = Dense(units = 10, activation='softmax')(flatten_layer)\n",
    "\n",
    "model = Model(input_layer, output_layer)"
   ]
  },
  {
   "cell_type": "code",
   "execution_count": 13,
   "metadata": {
    "scrolled": true
   },
   "outputs": [
    {
     "name": "stdout",
     "output_type": "stream",
     "text": [
      "Model: \"model_1\"\n",
      "_________________________________________________________________\n",
      "Layer (type)                 Output Shape              Param #   \n",
      "=================================================================\n",
      "input_3 (InputLayer)         [(None, 32, 32, 3)]       0         \n",
      "_________________________________________________________________\n",
      "conv2d_1 (Conv2D)            (None, 16, 16, 10)        490       \n",
      "_________________________________________________________________\n",
      "conv2d_2 (Conv2D)            (None, 8, 8, 20)          1820      \n",
      "_________________________________________________________________\n",
      "flatten_2 (Flatten)          (None, 1280)              0         \n",
      "_________________________________________________________________\n",
      "dense_6 (Dense)              (None, 10)                12810     \n",
      "=================================================================\n",
      "Total params: 15,120\n",
      "Trainable params: 15,120\n",
      "Non-trainable params: 0\n",
      "_________________________________________________________________\n"
     ]
    }
   ],
   "source": [
    "model.summary()"
   ]
  },
  {
   "cell_type": "code",
   "execution_count": 22,
   "metadata": {},
   "outputs": [],
   "source": [
    "from keras.layers import BatchNormalization, LeakyReLU, Dropout, Activation\n",
    "\n",
    "input_layer = Input((32, 32, 3))\n",
    "\n",
    "x = Conv2D(filters = 32, kernel_size = 3,\n",
    "          strides = 1, padding = 'same')(input_layer)\n",
    "\n",
    "x = BatchNormalization()(x)\n",
    "x = LeakyReLU()(x)\n",
    "\n",
    "x = Conv2D(filters = 32, kernel_size = 3,\n",
    "          strides = 2, padding = 'same')(x)\n",
    "x = BatchNormalization()(x)\n",
    "x = LeakyReLU()(x)\n",
    "\n",
    "x = Conv2D(filters = 64, kernel_size = 3,\n",
    "          strides = 1, padding = 'same')(x)\n",
    "x = BatchNormalization()(x)\n",
    "x = LeakyReLU()(x)\n",
    "\n",
    "x = Conv2D(filters = 64, kernel_size = 3,\n",
    "          strides = 2, padding = 'same')(x)\n",
    "x = BatchNormalization()(x)\n",
    "x = LeakyReLU()(x)\n",
    "\n",
    "x = Flatten()(x)\n",
    "\n",
    "x = Dense(128)(x)\n",
    "x = BatchNormalization()(x)\n",
    "x = LeakyReLU()(x)\n",
    "x = Dropout(rate = 0.5)(x)\n",
    "\n",
    "x = Dense(NUM_CLASSES)(x)\n",
    "\n",
    "output_layer = Activation('softmax')(x)\n",
    "model = Model(input_layer, output_layer)"
   ]
  },
  {
   "cell_type": "code",
   "execution_count": 24,
   "metadata": {},
   "outputs": [
    {
     "name": "stdout",
     "output_type": "stream",
     "text": [
      "Model: \"model_2\"\n",
      "_________________________________________________________________\n",
      "Layer (type)                 Output Shape              Param #   \n",
      "=================================================================\n",
      "input_12 (InputLayer)        [(None, 32, 32, 3)]       0         \n",
      "_________________________________________________________________\n",
      "conv2d_20 (Conv2D)           (None, 32, 32, 32)        896       \n",
      "_________________________________________________________________\n",
      "batch_normalization_19 (Batc (None, 32, 32, 32)        128       \n",
      "_________________________________________________________________\n",
      "leaky_re_lu_14 (LeakyReLU)   (None, 32, 32, 32)        0         \n",
      "_________________________________________________________________\n",
      "conv2d_21 (Conv2D)           (None, 16, 16, 32)        9248      \n",
      "_________________________________________________________________\n",
      "batch_normalization_20 (Batc (None, 16, 16, 32)        128       \n",
      "_________________________________________________________________\n",
      "leaky_re_lu_15 (LeakyReLU)   (None, 16, 16, 32)        0         \n",
      "_________________________________________________________________\n",
      "conv2d_22 (Conv2D)           (None, 16, 16, 64)        18496     \n",
      "_________________________________________________________________\n",
      "batch_normalization_21 (Batc (None, 16, 16, 64)        256       \n",
      "_________________________________________________________________\n",
      "leaky_re_lu_16 (LeakyReLU)   (None, 16, 16, 64)        0         \n",
      "_________________________________________________________________\n",
      "conv2d_23 (Conv2D)           (None, 8, 8, 64)          36928     \n",
      "_________________________________________________________________\n",
      "batch_normalization_22 (Batc (None, 8, 8, 64)          256       \n",
      "_________________________________________________________________\n",
      "leaky_re_lu_17 (LeakyReLU)   (None, 8, 8, 64)          0         \n",
      "_________________________________________________________________\n",
      "flatten_6 (Flatten)          (None, 4096)              0         \n",
      "_________________________________________________________________\n",
      "dense_11 (Dense)             (None, 128)               524416    \n",
      "_________________________________________________________________\n",
      "batch_normalization_23 (Batc (None, 128)               512       \n",
      "_________________________________________________________________\n",
      "leaky_re_lu_18 (LeakyReLU)   (None, 128)               0         \n",
      "_________________________________________________________________\n",
      "dropout_1 (Dropout)          (None, 128)               0         \n",
      "_________________________________________________________________\n",
      "dense_12 (Dense)             (None, 10)                1290      \n",
      "_________________________________________________________________\n",
      "activation (Activation)      (None, 10)                0         \n",
      "=================================================================\n",
      "Total params: 592,554\n",
      "Trainable params: 591,914\n",
      "Non-trainable params: 640\n",
      "_________________________________________________________________\n"
     ]
    }
   ],
   "source": [
    "model.summary()"
   ]
  },
  {
   "cell_type": "code",
   "execution_count": 26,
   "metadata": {},
   "outputs": [],
   "source": [
    "model.compile(loss='categorical_crossentropy', optimizer=opt,\n",
    "             metrics=['accuracy'])"
   ]
  },
  {
   "cell_type": "code",
   "execution_count": 27,
   "metadata": {},
   "outputs": [
    {
     "name": "stdout",
     "output_type": "stream",
     "text": [
      "Epoch 1/15\n",
      "1563/1563 [==============================] - 131s 83ms/step - loss: 1.7321 - accuracy: 0.3948\n",
      "Epoch 2/15\n",
      "1563/1563 [==============================] - 129s 82ms/step - loss: 1.1747 - accuracy: 0.5856\n",
      "Epoch 3/15\n",
      "1563/1563 [==============================] - 135s 87ms/step - loss: 1.0165 - accuracy: 0.6426\n",
      "Epoch 4/15\n",
      "1563/1563 [==============================] - 135s 86ms/step - loss: 0.9225 - accuracy: 0.6765\n",
      "Epoch 5/15\n",
      "1563/1563 [==============================] - 135s 86ms/step - loss: 0.8470 - accuracy: 0.7038\n",
      "Epoch 6/15\n",
      "1563/1563 [==============================] - 140s 89ms/step - loss: 0.8014 - accuracy: 0.7184\n",
      "Epoch 7/15\n",
      "1563/1563 [==============================] - 135s 86ms/step - loss: 0.7511 - accuracy: 0.7375\n",
      "Epoch 8/15\n",
      "1563/1563 [==============================] - 131s 84ms/step - loss: 0.7155 - accuracy: 0.7514\n",
      "Epoch 9/15\n",
      "1563/1563 [==============================] - 133s 85ms/step - loss: 0.6892 - accuracy: 0.7608\n",
      "Epoch 10/15\n",
      "1563/1563 [==============================] - 134s 86ms/step - loss: 0.6567 - accuracy: 0.7694\n",
      "Epoch 11/15\n",
      "1563/1563 [==============================] - 132s 85ms/step - loss: 0.6159 - accuracy: 0.7854\n",
      "Epoch 12/15\n",
      "1563/1563 [==============================] - 143s 91ms/step - loss: 0.5902 - accuracy: 0.7922\n",
      "Epoch 13/15\n",
      "1563/1563 [==============================] - 134s 86ms/step - loss: 0.5710 - accuracy: 0.7970\n",
      "Epoch 14/15\n",
      "1563/1563 [==============================] - 130s 83ms/step - loss: 0.5458 - accuracy: 0.8107\n",
      "Epoch 15/15\n",
      "1563/1563 [==============================] - 139s 89ms/step - loss: 0.5232 - accuracy: 0.8185\n"
     ]
    }
   ],
   "source": [
    "hisrory = model.fit(x_train, y_train, epochs=15, batch_size=32, shuffle=True)"
   ]
  },
  {
   "cell_type": "markdown",
   "metadata": {},
   "source": [
    " 처음알게된 사실인데 ```Epoch 1/15 1563/1563``` 약간 뭔가 했더니 데이터셋 / batch_size라는 것을 알게 되었다. 아주 굿잡."
   ]
  },
  {
   "cell_type": "code",
   "execution_count": 29,
   "metadata": {},
   "outputs": [
    {
     "name": "stdout",
     "output_type": "stream",
     "text": [
      "313/313 [==============================] - 4s 14ms/step - loss: 0.8362 - accuracy: 0.7172\n"
     ]
    },
    {
     "data": {
      "text/plain": [
       "0.717199981212616"
      ]
     },
     "execution_count": 29,
     "metadata": {},
     "output_type": "execute_result"
    }
   ],
   "source": [
    "model.evaluate(x_test, y_test, batch_size=32)[1]"
   ]
  },
  {
   "cell_type": "code",
   "execution_count": 33,
   "metadata": {},
   "outputs": [
    {
     "data": {
      "text/plain": [
       "array([[1.0627880e-02, 9.9235098e-05, 2.1719281e-04, ..., 3.7769420e-05,\n",
       "        1.5340394e-01, 2.2321658e-03],\n",
       "       [2.2539548e-03, 4.0866077e-02, 6.9176468e-07, ..., 4.9514153e-09,\n",
       "        9.5659751e-01, 2.8095779e-04],\n",
       "       [3.7443340e-01, 2.9476283e-02, 7.5057801e-04, ..., 1.3281824e-03,\n",
       "        4.3066800e-01, 1.5870932e-01],\n",
       "       ...,\n",
       "       [1.9122805e-05, 2.8290714e-07, 6.6891395e-02, ..., 5.5116903e-02,\n",
       "        9.5161686e-06, 1.6909131e-05],\n",
       "       [2.6128892e-02, 9.1689539e-01, 1.3439631e-03, ..., 3.6298996e-04,\n",
       "        1.3652985e-04, 4.8869866e-04],\n",
       "       [1.5801970e-08, 2.2169556e-07, 9.3447906e-04, ..., 9.9287647e-01,\n",
       "        1.4364523e-06, 3.8268659e-08]], dtype=float32)"
      ]
     },
     "execution_count": 33,
     "metadata": {},
     "output_type": "execute_result"
    }
   ],
   "source": [
    "model.predict(x_test, batch_size=32)\n",
    "\n",
    "# 모델의 출력값"
   ]
  }
 ],
 "metadata": {
  "kernelspec": {
   "display_name": "Python 3",
   "language": "python",
   "name": "python3"
  },
  "language_info": {
   "codemirror_mode": {
    "name": "ipython",
    "version": 3
   },
   "file_extension": ".py",
   "mimetype": "text/x-python",
   "name": "python",
   "nbconvert_exporter": "python",
   "pygments_lexer": "ipython3",
   "version": "3.8.5"
  }
 },
 "nbformat": 4,
 "nbformat_minor": 4
}
